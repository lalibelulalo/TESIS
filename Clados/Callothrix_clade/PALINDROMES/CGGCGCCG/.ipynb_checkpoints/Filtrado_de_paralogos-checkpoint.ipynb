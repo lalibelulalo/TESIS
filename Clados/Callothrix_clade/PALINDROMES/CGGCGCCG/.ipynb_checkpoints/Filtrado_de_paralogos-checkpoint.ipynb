{
 "cells": [
  {
   "cell_type": "code",
   "execution_count": 1,
   "id": "3adbceed",
   "metadata": {},
   "outputs": [],
   "source": [
    "from Bio import SeqIO\n",
    "import re\n",
    "import os\n",
    "import sys\n",
    "import shutil\n",
    "\n",
    "SEQUENCES_PATH = sys.argv[1] #'Orthologues_GCGATCGC_336_3/' ## Path de la carpeta con los ortólogos.\n",
    "#output_file = 'Orthologues_Palindrome_sites.txt' ## Nombre del archivo de salida\n",
    "#output = open (output_file, 'w') ## Abrimos el archivo de salida\n",
    "\n",
    "if SEQUENCES_PATH.endswith(\"/\"): ## Esta parte la pongo por si corro este codigo en la terminal\n",
    "    SequencesPath = re.sub('/', '', SEQUENCES_PATH) ## De este modo evito errores en el argumento path \n",
    "    SequencesDir = str(SEQUENCES_PATH)\n",
    "else:\n",
    "    SequencesPath = SEQUENCES_PATH\n",
    "    SequencesDir = str(\"\".join ([SEQUENCES_PATH,'/']))\n",
    "Orthologues = [x for x in os.listdir(SequencesDir) if x.endswith(\".fna\")] ## creo un arreglo con todos los ortólogis de la carpeta\n",
    "\n",
    "for Orthologue in Orthologues:\n",
    "    i = 0\n",
    "    FNA = str(\"\".join ([SequencesDir,Orthologue])) ## creo el path completo con el path de la carpeta de ortólogos y el path del ortólogo\n",
    "    for record in SeqIO.parse(open(FNA),'fasta'):\n",
    "        i += 1\n",
    "    #print ('{}\\t{}'.format(Orthologue,i))\n",
    "    if i == 6:\n",
    "        shutil.copyfile(FNA,str(\"\".join (['Only_ORTHOLOGUES/',Orthologue]))) ## si hasy unicamente 6 entradas entonces no hay paralogos\n",
    "    else:\n",
    "        shutil.copyfile(FNA,str(\"\".join (['PARALOGUES/',Orthologue]))) ## Si hay mas de 6 entradas hay parálogos"
   ]
  }
 ],
 "metadata": {
  "kernelspec": {
   "display_name": "Python 3 (ipykernel)",
   "language": "python",
   "name": "python3"
  },
  "language_info": {
   "codemirror_mode": {
    "name": "ipython",
    "version": 3
   },
   "file_extension": ".py",
   "mimetype": "text/x-python",
   "name": "python",
   "nbconvert_exporter": "python",
   "pygments_lexer": "ipython3",
   "version": "3.10.6"
  }
 },
 "nbformat": 4,
 "nbformat_minor": 5
}
